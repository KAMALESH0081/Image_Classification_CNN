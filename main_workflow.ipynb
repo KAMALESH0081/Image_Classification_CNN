{
 "cells": [
  {
   "cell_type": "code",
   "execution_count": 1,
   "metadata": {},
   "outputs": [],
   "source": [
    "import torch\n",
    "import torchvision\n",
    "import torchvision.transforms as transforms\n",
    "from torchvision.datasets import ImageFolder\n",
    "from torch.utils.data import DataLoader, random_split\n",
    "import os\n",
    "import numpy as np\n",
    "import pathlib\n",
    "from pathlib import Path\n",
    "from PIL import Image\n",
    "from torchvision import transforms\n",
    "import pandas as pd\n"
   ]
  },
  {
   "cell_type": "code",
   "execution_count": 2,
   "metadata": {},
   "outputs": [],
   "source": [
    "# Set the path to the dataset\n",
    "dataset_path = \"C:\\\\Users\\\\Kamal\\\\DownloadsRice_Image_Dataset\\\\Rice_Image_Dataset\"\n",
    "\n",
    "# Initialize empty lists for storing the images and labels\n",
    "images = []\n",
    "labels = []\n",
    "\n",
    "# Loop over the subfolders in the dataset\n",
    "for subfolder in os.listdir(dataset_path):\n",
    "    \n",
    "    subfolder_path = os.path.join(dataset_path, subfolder)\n",
    "    if not os.path.isdir(subfolder_path):\n",
    "        continue\n",
    "  \n",
    "  # Loop over the images in the subfolder\n",
    "    for image_filename in os.listdir(subfolder_path):\n",
    "       # Load the image and store it in the images list\n",
    "        image_path = os.path.join(subfolder_path, image_filename)\n",
    "        images.append(image_path)\n",
    "    \n",
    "        # Store the label for the image in the labels list\n",
    "        labels.append(subfolder)\n",
    " \n",
    " # Create a pandas DataFrame from the images and labels\n",
    "df = pd.DataFrame({'image': images, 'label': labels})"
   ]
  },
  {
   "cell_type": "code",
   "execution_count": null,
   "metadata": {},
   "outputs": [
    {
     "name": "stdout",
     "output_type": "stream",
     "text": [
      "<class 'pandas.core.frame.DataFrame'>\n",
      "RangeIndex: 75001 entries, 0 to 75000\n",
      "Data columns (total 2 columns):\n",
      " #   Column  Non-Null Count  Dtype \n",
      "---  ------  --------------  ----- \n",
      " 0   image   75001 non-null  object\n",
      " 1   label   75001 non-null  object\n",
      "dtypes: object(2)\n",
      "memory usage: 1.1+ MB\n"
     ]
    }
   ],
   "source": [
    "df.info()"
   ]
  },
  {
   "cell_type": "code",
   "execution_count": 4,
   "metadata": {},
   "outputs": [
    {
     "name": "stdout",
     "output_type": "stream",
     "text": [
      "1000\n",
      "label\n",
      "Arborio      1000\n",
      "Basmati      1000\n",
      "Ipsala       1000\n",
      "Jasmine      1000\n",
      "Karacadag    1000\n",
      "Name: count, dtype: int64\n"
     ]
    },
    {
     "name": "stderr",
     "output_type": "stream",
     "text": [
      "C:\\Users\\Kamal\\AppData\\Local\\Temp\\ipykernel_2640\\180658875.py:6: DeprecationWarning: DataFrameGroupBy.apply operated on the grouping columns. This behavior is deprecated, and in a future version of pandas the grouping columns will be excluded from the operation. Either pass `include_groups=False` to exclude the groupings or explicitly select the grouping columns after groupby to silence this warning.\n",
      "  df_reduced = df.groupby('label', group_keys=False).apply(lambda x: x.sample(n=samples_per_class, random_state=42))\n"
     ]
    }
   ],
   "source": [
    "# Determine the number of samples per class \n",
    "samples_per_class = df['label'].value_counts().min() //  15  # Since all classes are equally distributed\n",
    "print(samples_per_class)\n",
    "\n",
    "# Sample half of the rows per class\n",
    "df_reduced = df.groupby('label', group_keys=False).apply(lambda x: x.sample(n=samples_per_class, random_state=42))\n",
    "\n",
    "# Reset index\n",
    "df_reduced = df_reduced.reset_index(drop=True)\n",
    "\n",
    "\n",
    "\n",
    "print(df_reduced['label'].value_counts())  # To verify equal distribution"
   ]
  },
  {
   "cell_type": "code",
   "execution_count": 5,
   "metadata": {},
   "outputs": [
    {
     "data": {
      "text/html": [
       "<div>\n",
       "<style scoped>\n",
       "    .dataframe tbody tr th:only-of-type {\n",
       "        vertical-align: middle;\n",
       "    }\n",
       "\n",
       "    .dataframe tbody tr th {\n",
       "        vertical-align: top;\n",
       "    }\n",
       "\n",
       "    .dataframe thead th {\n",
       "        text-align: right;\n",
       "    }\n",
       "</style>\n",
       "<table border=\"1\" class=\"dataframe\">\n",
       "  <thead>\n",
       "    <tr style=\"text-align: right;\">\n",
       "      <th></th>\n",
       "      <th>image</th>\n",
       "      <th>label</th>\n",
       "    </tr>\n",
       "  </thead>\n",
       "  <tbody>\n",
       "    <tr>\n",
       "      <th>0</th>\n",
       "      <td>C:\\Users\\Kamal\\DownloadsRice_Image_Dataset\\Ric...</td>\n",
       "      <td>Arborio</td>\n",
       "    </tr>\n",
       "    <tr>\n",
       "      <th>1</th>\n",
       "      <td>C:\\Users\\Kamal\\DownloadsRice_Image_Dataset\\Ric...</td>\n",
       "      <td>Arborio</td>\n",
       "    </tr>\n",
       "    <tr>\n",
       "      <th>2</th>\n",
       "      <td>C:\\Users\\Kamal\\DownloadsRice_Image_Dataset\\Ric...</td>\n",
       "      <td>Arborio</td>\n",
       "    </tr>\n",
       "    <tr>\n",
       "      <th>3</th>\n",
       "      <td>C:\\Users\\Kamal\\DownloadsRice_Image_Dataset\\Ric...</td>\n",
       "      <td>Arborio</td>\n",
       "    </tr>\n",
       "    <tr>\n",
       "      <th>4</th>\n",
       "      <td>C:\\Users\\Kamal\\DownloadsRice_Image_Dataset\\Ric...</td>\n",
       "      <td>Arborio</td>\n",
       "    </tr>\n",
       "    <tr>\n",
       "      <th>...</th>\n",
       "      <td>...</td>\n",
       "      <td>...</td>\n",
       "    </tr>\n",
       "    <tr>\n",
       "      <th>4995</th>\n",
       "      <td>C:\\Users\\Kamal\\DownloadsRice_Image_Dataset\\Ric...</td>\n",
       "      <td>Karacadag</td>\n",
       "    </tr>\n",
       "    <tr>\n",
       "      <th>4996</th>\n",
       "      <td>C:\\Users\\Kamal\\DownloadsRice_Image_Dataset\\Ric...</td>\n",
       "      <td>Karacadag</td>\n",
       "    </tr>\n",
       "    <tr>\n",
       "      <th>4997</th>\n",
       "      <td>C:\\Users\\Kamal\\DownloadsRice_Image_Dataset\\Ric...</td>\n",
       "      <td>Karacadag</td>\n",
       "    </tr>\n",
       "    <tr>\n",
       "      <th>4998</th>\n",
       "      <td>C:\\Users\\Kamal\\DownloadsRice_Image_Dataset\\Ric...</td>\n",
       "      <td>Karacadag</td>\n",
       "    </tr>\n",
       "    <tr>\n",
       "      <th>4999</th>\n",
       "      <td>C:\\Users\\Kamal\\DownloadsRice_Image_Dataset\\Ric...</td>\n",
       "      <td>Karacadag</td>\n",
       "    </tr>\n",
       "  </tbody>\n",
       "</table>\n",
       "<p>5000 rows × 2 columns</p>\n",
       "</div>"
      ],
      "text/plain": [
       "                                                  image      label\n",
       "0     C:\\Users\\Kamal\\DownloadsRice_Image_Dataset\\Ric...    Arborio\n",
       "1     C:\\Users\\Kamal\\DownloadsRice_Image_Dataset\\Ric...    Arborio\n",
       "2     C:\\Users\\Kamal\\DownloadsRice_Image_Dataset\\Ric...    Arborio\n",
       "3     C:\\Users\\Kamal\\DownloadsRice_Image_Dataset\\Ric...    Arborio\n",
       "4     C:\\Users\\Kamal\\DownloadsRice_Image_Dataset\\Ric...    Arborio\n",
       "...                                                 ...        ...\n",
       "4995  C:\\Users\\Kamal\\DownloadsRice_Image_Dataset\\Ric...  Karacadag\n",
       "4996  C:\\Users\\Kamal\\DownloadsRice_Image_Dataset\\Ric...  Karacadag\n",
       "4997  C:\\Users\\Kamal\\DownloadsRice_Image_Dataset\\Ric...  Karacadag\n",
       "4998  C:\\Users\\Kamal\\DownloadsRice_Image_Dataset\\Ric...  Karacadag\n",
       "4999  C:\\Users\\Kamal\\DownloadsRice_Image_Dataset\\Ric...  Karacadag\n",
       "\n",
       "[5000 rows x 2 columns]"
      ]
     },
     "execution_count": 5,
     "metadata": {},
     "output_type": "execute_result"
    }
   ],
   "source": [
    "df_reduced"
   ]
  },
  {
   "cell_type": "code",
   "execution_count": 6,
   "metadata": {},
   "outputs": [],
   "source": [
    "df_reduced['label'] = df_reduced['label'].map({'Arborio': 0, 'Basmati': 1, 'Ipsala': 2, 'Jasmine': 3, 'Karacadag': 4})"
   ]
  },
  {
   "cell_type": "code",
   "execution_count": 7,
   "metadata": {},
   "outputs": [
    {
     "data": {
      "text/html": [
       "<div>\n",
       "<style scoped>\n",
       "    .dataframe tbody tr th:only-of-type {\n",
       "        vertical-align: middle;\n",
       "    }\n",
       "\n",
       "    .dataframe tbody tr th {\n",
       "        vertical-align: top;\n",
       "    }\n",
       "\n",
       "    .dataframe thead th {\n",
       "        text-align: right;\n",
       "    }\n",
       "</style>\n",
       "<table border=\"1\" class=\"dataframe\">\n",
       "  <thead>\n",
       "    <tr style=\"text-align: right;\">\n",
       "      <th></th>\n",
       "      <th>image</th>\n",
       "      <th>label</th>\n",
       "    </tr>\n",
       "  </thead>\n",
       "  <tbody>\n",
       "    <tr>\n",
       "      <th>0</th>\n",
       "      <td>C:\\Users\\Kamal\\DownloadsRice_Image_Dataset\\Ric...</td>\n",
       "      <td>0</td>\n",
       "    </tr>\n",
       "    <tr>\n",
       "      <th>1</th>\n",
       "      <td>C:\\Users\\Kamal\\DownloadsRice_Image_Dataset\\Ric...</td>\n",
       "      <td>0</td>\n",
       "    </tr>\n",
       "    <tr>\n",
       "      <th>2</th>\n",
       "      <td>C:\\Users\\Kamal\\DownloadsRice_Image_Dataset\\Ric...</td>\n",
       "      <td>0</td>\n",
       "    </tr>\n",
       "    <tr>\n",
       "      <th>3</th>\n",
       "      <td>C:\\Users\\Kamal\\DownloadsRice_Image_Dataset\\Ric...</td>\n",
       "      <td>0</td>\n",
       "    </tr>\n",
       "    <tr>\n",
       "      <th>4</th>\n",
       "      <td>C:\\Users\\Kamal\\DownloadsRice_Image_Dataset\\Ric...</td>\n",
       "      <td>0</td>\n",
       "    </tr>\n",
       "    <tr>\n",
       "      <th>...</th>\n",
       "      <td>...</td>\n",
       "      <td>...</td>\n",
       "    </tr>\n",
       "    <tr>\n",
       "      <th>4995</th>\n",
       "      <td>C:\\Users\\Kamal\\DownloadsRice_Image_Dataset\\Ric...</td>\n",
       "      <td>4</td>\n",
       "    </tr>\n",
       "    <tr>\n",
       "      <th>4996</th>\n",
       "      <td>C:\\Users\\Kamal\\DownloadsRice_Image_Dataset\\Ric...</td>\n",
       "      <td>4</td>\n",
       "    </tr>\n",
       "    <tr>\n",
       "      <th>4997</th>\n",
       "      <td>C:\\Users\\Kamal\\DownloadsRice_Image_Dataset\\Ric...</td>\n",
       "      <td>4</td>\n",
       "    </tr>\n",
       "    <tr>\n",
       "      <th>4998</th>\n",
       "      <td>C:\\Users\\Kamal\\DownloadsRice_Image_Dataset\\Ric...</td>\n",
       "      <td>4</td>\n",
       "    </tr>\n",
       "    <tr>\n",
       "      <th>4999</th>\n",
       "      <td>C:\\Users\\Kamal\\DownloadsRice_Image_Dataset\\Ric...</td>\n",
       "      <td>4</td>\n",
       "    </tr>\n",
       "  </tbody>\n",
       "</table>\n",
       "<p>5000 rows × 2 columns</p>\n",
       "</div>"
      ],
      "text/plain": [
       "                                                  image  label\n",
       "0     C:\\Users\\Kamal\\DownloadsRice_Image_Dataset\\Ric...      0\n",
       "1     C:\\Users\\Kamal\\DownloadsRice_Image_Dataset\\Ric...      0\n",
       "2     C:\\Users\\Kamal\\DownloadsRice_Image_Dataset\\Ric...      0\n",
       "3     C:\\Users\\Kamal\\DownloadsRice_Image_Dataset\\Ric...      0\n",
       "4     C:\\Users\\Kamal\\DownloadsRice_Image_Dataset\\Ric...      0\n",
       "...                                                 ...    ...\n",
       "4995  C:\\Users\\Kamal\\DownloadsRice_Image_Dataset\\Ric...      4\n",
       "4996  C:\\Users\\Kamal\\DownloadsRice_Image_Dataset\\Ric...      4\n",
       "4997  C:\\Users\\Kamal\\DownloadsRice_Image_Dataset\\Ric...      4\n",
       "4998  C:\\Users\\Kamal\\DownloadsRice_Image_Dataset\\Ric...      4\n",
       "4999  C:\\Users\\Kamal\\DownloadsRice_Image_Dataset\\Ric...      4\n",
       "\n",
       "[5000 rows x 2 columns]"
      ]
     },
     "execution_count": 7,
     "metadata": {},
     "output_type": "execute_result"
    }
   ],
   "source": [
    "df_reduced"
   ]
  },
  {
   "cell_type": "code",
   "execution_count": 8,
   "metadata": {},
   "outputs": [
    {
     "data": {
      "text/html": [
       "<div>\n",
       "<style scoped>\n",
       "    .dataframe tbody tr th:only-of-type {\n",
       "        vertical-align: middle;\n",
       "    }\n",
       "\n",
       "    .dataframe tbody tr th {\n",
       "        vertical-align: top;\n",
       "    }\n",
       "\n",
       "    .dataframe thead th {\n",
       "        text-align: right;\n",
       "    }\n",
       "</style>\n",
       "<table border=\"1\" class=\"dataframe\">\n",
       "  <thead>\n",
       "    <tr style=\"text-align: right;\">\n",
       "      <th></th>\n",
       "      <th>image</th>\n",
       "      <th>label</th>\n",
       "    </tr>\n",
       "  </thead>\n",
       "  <tbody>\n",
       "    <tr>\n",
       "      <th>0</th>\n",
       "      <td>C:\\Users\\Kamal\\DownloadsRice_Image_Dataset\\Ric...</td>\n",
       "      <td>3</td>\n",
       "    </tr>\n",
       "    <tr>\n",
       "      <th>1</th>\n",
       "      <td>C:\\Users\\Kamal\\DownloadsRice_Image_Dataset\\Ric...</td>\n",
       "      <td>2</td>\n",
       "    </tr>\n",
       "    <tr>\n",
       "      <th>2</th>\n",
       "      <td>C:\\Users\\Kamal\\DownloadsRice_Image_Dataset\\Ric...</td>\n",
       "      <td>4</td>\n",
       "    </tr>\n",
       "    <tr>\n",
       "      <th>3</th>\n",
       "      <td>C:\\Users\\Kamal\\DownloadsRice_Image_Dataset\\Ric...</td>\n",
       "      <td>3</td>\n",
       "    </tr>\n",
       "    <tr>\n",
       "      <th>4</th>\n",
       "      <td>C:\\Users\\Kamal\\DownloadsRice_Image_Dataset\\Ric...</td>\n",
       "      <td>2</td>\n",
       "    </tr>\n",
       "    <tr>\n",
       "      <th>...</th>\n",
       "      <td>...</td>\n",
       "      <td>...</td>\n",
       "    </tr>\n",
       "    <tr>\n",
       "      <th>4995</th>\n",
       "      <td>C:\\Users\\Kamal\\DownloadsRice_Image_Dataset\\Ric...</td>\n",
       "      <td>1</td>\n",
       "    </tr>\n",
       "    <tr>\n",
       "      <th>4996</th>\n",
       "      <td>C:\\Users\\Kamal\\DownloadsRice_Image_Dataset\\Ric...</td>\n",
       "      <td>4</td>\n",
       "    </tr>\n",
       "    <tr>\n",
       "      <th>4997</th>\n",
       "      <td>C:\\Users\\Kamal\\DownloadsRice_Image_Dataset\\Ric...</td>\n",
       "      <td>4</td>\n",
       "    </tr>\n",
       "    <tr>\n",
       "      <th>4998</th>\n",
       "      <td>C:\\Users\\Kamal\\DownloadsRice_Image_Dataset\\Ric...</td>\n",
       "      <td>0</td>\n",
       "    </tr>\n",
       "    <tr>\n",
       "      <th>4999</th>\n",
       "      <td>C:\\Users\\Kamal\\DownloadsRice_Image_Dataset\\Ric...</td>\n",
       "      <td>3</td>\n",
       "    </tr>\n",
       "  </tbody>\n",
       "</table>\n",
       "<p>5000 rows × 2 columns</p>\n",
       "</div>"
      ],
      "text/plain": [
       "                                                  image  label\n",
       "0     C:\\Users\\Kamal\\DownloadsRice_Image_Dataset\\Ric...      3\n",
       "1     C:\\Users\\Kamal\\DownloadsRice_Image_Dataset\\Ric...      2\n",
       "2     C:\\Users\\Kamal\\DownloadsRice_Image_Dataset\\Ric...      4\n",
       "3     C:\\Users\\Kamal\\DownloadsRice_Image_Dataset\\Ric...      3\n",
       "4     C:\\Users\\Kamal\\DownloadsRice_Image_Dataset\\Ric...      2\n",
       "...                                                 ...    ...\n",
       "4995  C:\\Users\\Kamal\\DownloadsRice_Image_Dataset\\Ric...      1\n",
       "4996  C:\\Users\\Kamal\\DownloadsRice_Image_Dataset\\Ric...      4\n",
       "4997  C:\\Users\\Kamal\\DownloadsRice_Image_Dataset\\Ric...      4\n",
       "4998  C:\\Users\\Kamal\\DownloadsRice_Image_Dataset\\Ric...      0\n",
       "4999  C:\\Users\\Kamal\\DownloadsRice_Image_Dataset\\Ric...      3\n",
       "\n",
       "[5000 rows x 2 columns]"
      ]
     },
     "execution_count": 8,
     "metadata": {},
     "output_type": "execute_result"
    }
   ],
   "source": [
    "shuffled_df = df_reduced.sample(frac=1).reset_index(drop=True)\n",
    "shuffled_df"
   ]
  },
  {
   "cell_type": "code",
   "execution_count": 9,
   "metadata": {},
   "outputs": [],
   "source": [
    "transform = transforms.Compose([\n",
    "    transforms.Grayscale(num_output_channels=1),  # Convert to grayscale (1, H, W)\n",
    "    transforms.ToTensor()  # Converts to tensor & scales pixels to [0,1]\n",
    "])\n"
   ]
  },
  {
   "cell_type": "code",
   "execution_count": 10,
   "metadata": {},
   "outputs": [
    {
     "name": "stdout",
     "output_type": "stream",
     "text": [
      "Train size: 4500, Test size: 500\n"
     ]
    }
   ],
   "source": [
    "from torch.utils.data import Dataset, DataLoader, random_split\n",
    "\n",
    "class_names = [\"Arborio\", \"Basmati\", \"Ipsala\", \"Jasmine\", \"Karacadag\"]\n",
    "class_to_idx = {name: idx for idx, name in enumerate(class_names)}\n",
    "\n",
    "class RiceDataset(Dataset):\n",
    "    def __init__(self, dataframe, transform=None):\n",
    "        self.dataframe = dataframe\n",
    "        self.transform = transform\n",
    "\n",
    "    def __len__(self):\n",
    "        return len(self.dataframe)\n",
    "\n",
    "    def __getitem__(self, idx):\n",
    "        image =  self.dataframe.iloc[idx][\"image\"]\n",
    "        label =  self.dataframe.iloc[idx][\"label\"]\n",
    "\n",
    "        try:\n",
    "            image = Image.open(image)# convert(\"RGB\")  # Open image\n",
    "        except Exception as e:\n",
    "            print(f\"Skipping corrupt image: {image_path} - {e}\")\n",
    "            return self.__getitem__((idx + 1) % len(self.image_paths))  # Skip to next image\n",
    "        \n",
    "        if self.transform:\n",
    "            processed_image = self.transform(image)\n",
    "\n",
    "        return {\"image\": processed_image, \"label\": label}\n",
    "\n",
    "\n",
    "# Create dataset\n",
    "dataset = RiceDataset(shuffled_df, transform=transform) \n",
    "\n",
    "# Define split sizes\n",
    "train_size = int(0.9 * len(dataset))  # 80% for training\n",
    "test_size = len(dataset) - train_size  # Remaining for testing\n",
    "\n",
    "# Split dataset\n",
    "train_dataset, test_dataset = random_split(dataset, [train_size, test_size])\n",
    "\n",
    "# Create DataLoaders\n",
    "train_loader = DataLoader(train_dataset, batch_size=32, shuffle=True)\n",
    "test_loader = DataLoader(test_dataset, batch_size=32, shuffle=True)\n",
    "\n",
    "# Check sizes\n",
    "print(f\"Train size: {len(train_dataset)}, Test size: {len(test_dataset)}\")\n"
   ]
  },
  {
   "cell_type": "code",
   "execution_count": 11,
   "metadata": {},
   "outputs": [],
   "source": [
    "full = DataLoader(dataset, batch_size=16, shuffle=False)"
   ]
  },
  {
   "cell_type": "code",
   "execution_count": 12,
   "metadata": {},
   "outputs": [
    {
     "name": "stdout",
     "output_type": "stream",
     "text": [
      "label\n",
      "3    1000\n",
      "2    1000\n",
      "4    1000\n",
      "1    1000\n",
      "0    1000\n",
      "Name: count, dtype: int64\n"
     ]
    }
   ],
   "source": [
    "print(shuffled_df['label'].value_counts())"
   ]
  },
  {
   "cell_type": "code",
   "execution_count": 13,
   "metadata": {},
   "outputs": [
    {
     "name": "stdout",
     "output_type": "stream",
     "text": [
      "<torch.utils.data.dataset.Subset object at 0x000001C489E84590>\n"
     ]
    }
   ],
   "source": [
    "print(test_dataset)"
   ]
  },
  {
   "cell_type": "code",
   "execution_count": 14,
   "metadata": {},
   "outputs": [],
   "source": [
    "import matplotlib.pyplot as plt"
   ]
  },
  {
   "cell_type": "code",
   "execution_count": 15,
   "metadata": {},
   "outputs": [
    {
     "data": {
      "text/plain": [
       "313"
      ]
     },
     "execution_count": 15,
     "metadata": {},
     "output_type": "execute_result"
    }
   ],
   "source": [
    "len(full)"
   ]
  },
  {
   "cell_type": "code",
   "execution_count": 18,
   "metadata": {},
   "outputs": [
    {
     "name": "stdout",
     "output_type": "stream",
     "text": [
      "Labels: tensor([3, 2, 4, 3, 2, 1, 0, 3, 2, 2, 4, 2, 3, 1, 0, 0])\n",
      "Batch shape: torch.Size([16, 1, 250, 250])\n"
     ]
    },
    {
     "data": {
      "image/png": "[encoded data removed]",
      "text/plain": [
       "<Figure size 640x480 with 1 Axes>"
      ]
     },
     "metadata": {},
     "output_type": "display_data"
    }
   ],
   "source": [
    "for batch in full:\n",
    "    tensor = batch['image'][3]  # (batch_size, C, H, W)\n",
    "    print(f\"Labels: {batch['label']}\")\n",
    "    print(f\"Batch shape: {batch['image'].shape}\")\n",
    " # Stop after first batch\n",
    "    image = tensor.squeeze(0).numpy()\n",
    "\n",
    "    # Display the image\n",
    "    plt.imshow(image, cmap=\"gray\")\n",
    "    plt.axis(\"off\")  # Hide axes\n",
    "    plt.show()\n",
    "    break"
   ]
  },
  {
   "cell_type": "code",
   "execution_count": 20,
   "metadata": {},
   "outputs": [],
   "source": [
    "import torch\n",
    "import torch.nn as nn\n",
    "import torch.optim as optim\n",
    "\n",
    "class CustomCNN(nn.Module):\n",
    "    def __init__(self, num_classes=5):\n",
    "        super(CustomCNN, self).__init__()\n",
    "\n",
    "        self.conv_layers = nn.Sequential(\n",
    "            nn.Conv2d(1, 48, kernel_size=3, stride=1, padding=1),\n",
    "            nn.LeakyReLU(negative_slope=0.01),\n",
    "            nn.MaxPool2d(kernel_size=2, stride=2),\n",
    "\n",
    "            nn.Conv2d(48, 96, kernel_size=3, stride=1, padding=1),\n",
    "            nn.LeakyReLU(negative_slope=0.01),\n",
    "            nn.MaxPool2d(kernel_size=2, stride=2),\n",
    "\n",
    "            nn.Conv2d(96, 192, kernel_size=3, stride=1, padding=1),\n",
    "            nn.LeakyReLU(negative_slope=0.01),\n",
    "            nn.Conv2d(192, 192, kernel_size=3, stride=1, padding=1),\n",
    "            nn.LeakyReLU(negative_slope=0.01),\n",
    "            nn.MaxPool2d(kernel_size=2, stride=2),\n",
    "\n",
    "            nn.Conv2d(192, 256, kernel_size=3, stride=1, padding=1),\n",
    "            nn.LeakyReLU(negative_slope=0.01),\n",
    "            nn.MaxPool2d(kernel_size=2, stride=2),\n",
    "        )\n",
    "\n",
    "        self.fc_layers = nn.Sequential(\n",
    "            nn.AdaptiveAvgPool2d(1),\n",
    "            nn.Flatten(),\n",
    "            nn.Linear(256, 512),\n",
    "            nn.LeakyReLU(negative_slope=0.01),\n",
    "            nn.Dropout(0.3),  # Increased dropout to 0.3\n",
    "            nn.Linear(512, num_classes)\n",
    "        )\n",
    "\n",
    "    def forward(self, x):\n",
    "        x = self.conv_layers(x)\n",
    "        x = self.fc_layers(x)\n",
    "        return x\n",
    "    # Model Initialization\n",
    "device = torch.device(\"cuda\" if torch.cuda.is_available() else \"cpu\")\n",
    "model = CustomCNN(num_classes=5).to(device)"
   ]
  },
  {
   "cell_type": "code",
   "execution_count": 21,
   "metadata": {},
   "outputs": [
    {
     "name": "stdout",
     "output_type": "stream",
     "text": [
      "Total model parameters: 1116869 -- eleven lakh, sixteen thousand, eight hundred and sixty-nine\n"
     ]
    }
   ],
   "source": [
    "from num2words import num2words\n",
    "\n",
    "def number_to_words(num):\n",
    "    # Convert number to words in Indian numbering system\n",
    "    return num2words(num, lang='en_IN')\n",
    "\n",
    "def count_parameters(model):\n",
    "    return sum(p.numel() for p in model.parameters()) \n",
    "# Assuming 'model' is your PyTorch model\n",
    "\n",
    "total_params = count_parameters(model)\n",
    "print(f\"Total model parameters: {total_params} -- {number_to_words(total_params)}\") "
   ]
  },
  {
   "cell_type": "code",
   "execution_count": 22,
   "metadata": {},
   "outputs": [
    {
     "name": "stdout",
     "output_type": "stream",
     "text": [
      "Using device: cuda\n",
      "Device name: NVIDIA GeForce GTX 1060 6GB\n",
      "Device memory: 5.999755859375 GB\n",
      "Model loaded from checkpoint.\n"
     ]
    },
    {
     "name": "stderr",
     "output_type": "stream",
     "text": [
      "Processing Epoch 01: 100%|██████████| 313/313 [01:13<00:00,  4.27it/s, loss=0.070]\n"
     ]
    },
    {
     "name": "stdout",
     "output_type": "stream",
     "text": [
      "Epoch 1/15, Train Loss: 0.3084, Train Acc: 88.02%                Val Loss: 0.1483, Val Acc: 94.18%\n"
     ]
    },
    {
     "name": "stderr",
     "output_type": "stream",
     "text": [
      "Processing Epoch 02: 100%|██████████| 313/313 [00:41<00:00,  7.50it/s, loss=0.271]\n"
     ]
    },
    {
     "name": "stdout",
     "output_type": "stream",
     "text": [
      "Epoch 2/15, Train Loss: 0.2741, Train Acc: 89.96%                Val Loss: 0.2004, Val Acc: 92.28%\n"
     ]
    },
    {
     "name": "stderr",
     "output_type": "stream",
     "text": [
      "Processing Epoch 03: 100%|██████████| 313/313 [00:41<00:00,  7.50it/s, loss=0.669]\n"
     ]
    },
    {
     "name": "stdout",
     "output_type": "stream",
     "text": [
      "Epoch 3/15, Train Loss: 0.2780, Train Acc: 89.66%                Val Loss: 0.2574, Val Acc: 89.78%\n"
     ]
    },
    {
     "name": "stderr",
     "output_type": "stream",
     "text": [
      "Processing Epoch 04: 100%|██████████| 313/313 [00:41<00:00,  7.48it/s, loss=0.110]\n"
     ]
    },
    {
     "name": "stdout",
     "output_type": "stream",
     "text": [
      "Epoch 4/15, Train Loss: 0.2372, Train Acc: 91.00%                Val Loss: 0.1325, Val Acc: 94.94%\n"
     ]
    },
    {
     "name": "stderr",
     "output_type": "stream",
     "text": [
      "Processing Epoch 05:   0%|          | 0/313 [00:04<?, ?it/s, loss=0.027]\n"
     ]
    },
    {
     "ename": "KeyboardInterrupt",
     "evalue": "",
     "output_type": "error",
     "traceback": [
      "\u001b[1;31m---------------------------------------------------------------------------\u001b[0m",
      "\u001b[1;31mKeyboardInterrupt\u001b[0m                         Traceback (most recent call last)",
      "Cell \u001b[1;32mIn[22], line 99\u001b[0m\n\u001b[0;32m     97\u001b[0m \u001b[38;5;28;01mif\u001b[39;00m \u001b[38;5;18m__name__\u001b[39m \u001b[38;5;241m==\u001b[39m \u001b[38;5;124m'\u001b[39m\u001b[38;5;124m__main__\u001b[39m\u001b[38;5;124m'\u001b[39m:\n\u001b[0;32m     98\u001b[0m     warnings\u001b[38;5;241m.\u001b[39mfilterwarnings(\u001b[38;5;124m\"\u001b[39m\u001b[38;5;124mignore\u001b[39m\u001b[38;5;124m\"\u001b[39m)\n\u001b[1;32m---> 99\u001b[0m     \u001b[43mtrain_model\u001b[49m\u001b[43m(\u001b[49m\u001b[43mmodel\u001b[49m\u001b[43m,\u001b[49m\u001b[43m \u001b[49m\u001b[43mfull\u001b[49m\u001b[43m,\u001b[49m\u001b[43m \u001b[49m\u001b[43mnum_epochs\u001b[49m\u001b[38;5;241;43m=\u001b[39;49m\u001b[43mepochs\u001b[49m\u001b[43m,\u001b[49m\u001b[43m \u001b[49m\u001b[43mlr\u001b[49m\u001b[38;5;241;43m=\u001b[39;49m\u001b[43mlr\u001b[49m\u001b[43m)\u001b[49m\n",
      "Cell \u001b[1;32mIn[22], line 61\u001b[0m, in \u001b[0;36mtrain_model\u001b[1;34m(model, full, num_epochs, lr)\u001b[0m\n\u001b[0;32m     58\u001b[0m  nn\u001b[38;5;241m.\u001b[39mutils\u001b[38;5;241m.\u001b[39mclip_grad_norm_(model\u001b[38;5;241m.\u001b[39mparameters(), max_norm\u001b[38;5;241m=\u001b[39m\u001b[38;5;241m2.0\u001b[39m)\n\u001b[0;32m     59\u001b[0m  optimizer\u001b[38;5;241m.\u001b[39mstep()\n\u001b[1;32m---> 61\u001b[0m  total_losst \u001b[38;5;241m+\u001b[39m\u001b[38;5;241m=\u001b[39m \u001b[43mloss\u001b[49m\u001b[38;5;241;43m.\u001b[39;49m\u001b[43mitem\u001b[49m\u001b[43m(\u001b[49m\u001b[43m)\u001b[49m\n\u001b[0;32m     62\u001b[0m  s1, preds \u001b[38;5;241m=\u001b[39m torch\u001b[38;5;241m.\u001b[39mmax(outputt, \u001b[38;5;241m1\u001b[39m)  \u001b[38;5;66;03m# Get predicted class\u001b[39;00m\n\u001b[0;32m     63\u001b[0m \u001b[38;5;66;03m# print(\"max logit \",s1)\u001b[39;00m\n\u001b[0;32m     64\u001b[0m  \u001b[38;5;66;03m#print(\"pred \",preds)\u001b[39;00m\n",
      "\u001b[1;31mKeyboardInterrupt\u001b[0m: "
     ]
    }
   ],
   "source": [
    "\n",
    "import torch\n",
    "import torch.nn as nn\n",
    "from torch.optim.lr_scheduler import LambdaLR\n",
    "from tqdm import tqdm\n",
    "import os\n",
    "from pathlib import Path\n",
    "import warnings\n",
    "from torch.utils.data import random_split\n",
    "from torch.optim.lr_scheduler import ReduceLROnPlateau\n",
    "import numpy as np\n",
    "train_images = []\n",
    "val_images = []\n",
    "\n",
    "epochs = 15\n",
    "lr = 0.001\n",
    "\n",
    "def train_model(model, full, num_epochs=100, lr=0.001):\n",
    "\n",
    "    device = \"cuda\" if torch.cuda.is_available() else \"mps\" if torch.has_mps or torch.backends.mps.is_available() else \"cpu\"\n",
    "    print(\"Using device:\", device)\n",
    "    if device == 'cuda':\n",
    "        print(f\"Device name: {torch.cuda.get_device_name(device.index)}\")\n",
    "        print(f\"Device memory: {torch.cuda.get_device_properties(device.index).total_memory / 1024 ** 3} GB\")\n",
    "\n",
    "    checkpoint_path = \"img_class_params.pth\"\n",
    "    if os.path.exists(checkpoint_path):\n",
    "        model.load_state_dict(torch.load(checkpoint_path))\n",
    "        print(\"Model loaded from checkpoint.\")\n",
    "    else :\n",
    "        print(\"Checkpoint not found. Training from scratch.\")\n",
    "\n",
    "    model.to(device)\n",
    "    optimizer = torch.optim.AdamW(model.parameters(), lr = lr,  weight_decay=1e-4)\n",
    "    loss_fn = nn.CrossEntropyLoss().to(device)\n",
    "    #scheduler = ReduceLROnPlateau(optimizer, mode='min', factor=0.5, patience=5, verbose=True)\n",
    "\n",
    "    for epoch in range(epochs):\n",
    "        model.train()\n",
    "        torch.cuda.empty_cache()\n",
    "        \n",
    "        total_losst, correctt, totalt = 0.0, 0, 0\n",
    "        batch_iterator = tqdm(full, desc=f\"Processing Epoch {epoch+1:02d}\")\n",
    "        for batch in batch_iterator:\n",
    "            imagest = batch['image'].to(device)\n",
    "            #train_images.append(images[0])\n",
    "            labelt = batch['label'].to(device)\n",
    "            #print(\"images \",images[0])\n",
    "            #print(\"actual \",label)\n",
    "            optimizer.zero_grad()\n",
    "            \n",
    "            outputt = model(imagest)\n",
    "            #print(\"output \",outputt)\n",
    "\n",
    "            loss = loss_fn(outputt, labelt)\n",
    "            batch_iterator.set_postfix({\"loss\": f\"{loss.item():6.3f}\"})\n",
    "\n",
    "            loss.backward()\n",
    "            nn.utils.clip_grad_norm_(model.parameters(), max_norm=2.0)\n",
    "            optimizer.step()\n",
    "            \n",
    "            total_losst += loss.item()\n",
    "            s1, preds = torch.max(outputt, 1)  # Get predicted class\n",
    "           # print(\"max logit \",s1)\n",
    "            #print(\"pred \",preds)\n",
    "            correctt += (preds == labelt).sum().item()\n",
    "            totalt += labelt.size(0)\n",
    "            \n",
    "        train_acc = 100 * correctt / totalt\n",
    "        avg_train_loss = total_losst / len(full)\n",
    "        \n",
    "        model.eval()\n",
    "        val_loss, val_correct, val_total = 0.0, 0, 0\n",
    "        with torch.no_grad():\n",
    "            for batch in full:\n",
    "                images = batch['image'].to(device)\n",
    "                val_images.append(images[0])\n",
    "                labels = batch['label'].to(device)\n",
    "                #print(\"actual \",labels)\n",
    "                outputs = model(images)\n",
    "                #print(\"output \",outputs)\n",
    "                lossv = loss_fn(outputs, labels)\n",
    "                val_loss += lossv.item()\n",
    "                s, predicted = torch.max(outputs, 1)\n",
    "                #print(\"max logit \",s)\n",
    "                #print(\"pred \",predicted)\n",
    "                val_total += labels.size(0)\n",
    "                val_correct += (predicted == labels).sum().item()\n",
    "        \n",
    "        val_loss /= len(full)\n",
    "        val_acc = 100 * val_correct / val_total\n",
    "        #scheduler.step(val_loss)    \n",
    "        \n",
    "        print(f\"Epoch {epoch+1}/{num_epochs}, Train Loss: {avg_train_loss:.4f}, Train Acc: {train_acc:.2f}% \\\n",
    "               Val Loss: {val_loss:.4f}, Val Acc: {val_acc:.2f}%\")\n",
    "        torch.save(model.state_dict(), \"img_class_params.pth\")\n",
    "        \n",
    "if __name__ == '__main__':\n",
    "    warnings.filterwarnings(\"ignore\")\n",
    "    train_model(model, full, num_epochs=epochs, lr=lr)"
   ]
  }
 ],
 "metadata": {
  "kernelspec": {
   "display_name": "Python 3",
   "language": "python",
   "name": "python3"
  },
  "language_info": {
   "codemirror_mode": {
    "name": "ipython",
    "version": 3
   },
   "file_extension": ".py",
   "mimetype": "text/x-python",
   "name": "python",
   "nbconvert_exporter": "python",
   "pygments_lexer": "ipython3",
   "version": "3.11.0"
  }
 },
 "nbformat": 4,
 "nbformat_minor": 2
}
